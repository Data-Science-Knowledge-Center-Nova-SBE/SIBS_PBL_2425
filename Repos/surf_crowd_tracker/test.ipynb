{
 "cells": [
  {
   "cell_type": "code",
   "execution_count": 4,
   "id": "96b791c9",
   "metadata": {},
   "outputs": [],
   "source": [
    "x = 1\n",
    "y = 1\n",
    "z = 2\n",
    "n = 3"
   ]
  },
  {
   "cell_type": "code",
   "execution_count": 5,
   "id": "c5b45b63",
   "metadata": {},
   "outputs": [
    {
     "name": "stdout",
     "output_type": "stream",
     "text": [
      "[(1, 1, 1), (1, 1, 1), (1, 1, 2), (1, 1, 1), (1, 1, 1), (1, 1, 2), (1, 2, 1), (1, 2, 1), (1, 2, 2), (1, 1, 1), (1, 1, 1), (1, 1, 2), (1, 1, 1), (1, 1, 1), (1, 1, 2), (1, 2, 1), (1, 2, 1), (1, 2, 2), (2, 1, 1), (2, 1, 1), (2, 1, 2), (2, 1, 1), (2, 1, 1), (2, 1, 2), (2, 2, 1), (2, 2, 1), (2, 2, 2)]\n"
     ]
    }
   ],
   "source": [
    "first_list = [x, y, z]\n",
    "possible_combinations = []\n",
    "\n",
    "for a in first_list:\n",
    "    for b in first_list:\n",
    "        for c in first_list:\n",
    "            possible_combinations.append((a, b, c))\n",
    "print(possible_combinations)"
   ]
  },
  {
   "cell_type": "code",
   "execution_count": 9,
   "id": "dfc30dea",
   "metadata": {},
   "outputs": [
    {
     "name": "stdout",
     "output_type": "stream",
     "text": [
      "False\n"
     ]
    }
   ],
   "source": [
    "def is_leap(year):\n",
    "    leap = False\n",
    "    \n",
    "    if year % 4 == 0:\n",
    "        if year % 100 == 0:\n",
    "            if year % 400 == 0:\n",
    "                leap = True\n",
    "            else:\n",
    "                leap = False\n",
    "        else:\n",
    "            leap = False\n",
    "    else:\n",
    "        leap = False\n",
    "    \n",
    "    return leap\n",
    "\n",
    "year = 1992\n",
    "print(is_leap(year))"
   ]
  },
  {
   "cell_type": "code",
   "execution_count": 15,
   "id": "2a6a30f5",
   "metadata": {},
   "outputs": [
    {
     "name": "stdout",
     "output_type": "stream",
     "text": [
      "123\n"
     ]
    }
   ],
   "source": [
    "n = 3\n",
    "s = \"\"\n",
    "    \n",
    "for i in range(n+1):\n",
    "    if i == 0:\n",
    "        continue\n",
    "    else:\n",
    "        s += str(i)\n",
    "    \n",
    "print(s)"
   ]
  },
  {
   "cell_type": "code",
   "execution_count": 17,
   "id": "8feba59e",
   "metadata": {},
   "outputs": [],
   "source": [
    "for _ in range(int(input())):\n",
    "        students = []\n",
    "        name = input()\n",
    "        score = float(input())\n",
    "        students.append((name, score))\n",
    "        "
   ]
  },
  {
   "cell_type": "code",
   "execution_count": 69,
   "id": "3bab41dc",
   "metadata": {},
   "outputs": [],
   "source": [
    "students = [['Harry', 37.21], ['Berry', 37.21], ['Tina', 37.2], ['Akriti', 41], ['Harsh', 39]]"
   ]
  },
  {
   "cell_type": "code",
   "execution_count": null,
   "id": "752202d9",
   "metadata": {},
   "outputs": [
    {
     "name": "stdout",
     "output_type": "stream",
     "text": [
      "Harry\n",
      "Berry\n"
     ]
    }
   ],
   "source": [
    "students = [['Harry', 37.21], ['Berry', 37.21], ['Tina', 37.2], ['Akriti', 41], ['Harsh', 39]]\n",
    "scores = []\n",
    "names = []\n",
    "\n",
    "for name, score in students:\n",
    "    students.sort(key=lambda x: x[1])\n",
    "    names.append(name)\n",
    "    scores.append(score)\n",
    "    \n",
    "\n",
    "new_names = []\n",
    "for name, score in students:\n",
    "    if scores[0] == scores[1]:\n",
    "        new_names = [name for name, score in students if score == scores[0]]\n",
    "    else:\n",
    "        new_names = [name for name, score in students if score == scores[0]]\n",
    "\n",
    "for n in new_names:\n",
    "    print(n)\n",
    "\n",
    "        "
   ]
  },
  {
   "cell_type": "code",
   "execution_count": null,
   "id": "7be5ce1e",
   "metadata": {},
   "outputs": [],
   "source": []
  }
 ],
 "metadata": {
  "kernelspec": {
   "display_name": "surf-crowd-tracker",
   "language": "python",
   "name": "python3"
  },
  "language_info": {
   "codemirror_mode": {
    "name": "ipython",
    "version": 3
   },
   "file_extension": ".py",
   "mimetype": "text/x-python",
   "name": "python",
   "nbconvert_exporter": "python",
   "pygments_lexer": "ipython3",
   "version": "3.11.9"
  }
 },
 "nbformat": 4,
 "nbformat_minor": 5
}
